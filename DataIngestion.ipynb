{
  "cells": [
    {
      "cell_type": "code",
      "execution_count": 10,
      "id": "3d144bf2",
      "metadata": {
        "id": "3d144bf2"
      },
      "outputs": [],
      "source": [
        "# import required libraries\n",
        "from kafka import KafkaConsumer, KafkaProducer\n",
        "import avro.schema\n",
        "import avro.io\n",
        "import io\n",
        "import hashlib, json"
      ]
    },
    {
      "cell_type": "code",
      "execution_count": 11,
      "id": "6234ffde",
      "metadata": {
        "id": "6234ffde"
      },
      "outputs": [],
      "source": [
        "def serialize(schema, obj):\n",
        "    bytes_writer = io.BytesIO()\n",
        "    encoder = avro.io.BinaryEncoder(bytes_writer)\n",
        "    writer = avro.io.DatumWriter(schema)\n",
        "    writer.write(obj, encoder)\n",
        "    return bytes_writer.getvalue()"
      ]
    },
    {
      "cell_type": "code",
      "execution_count": 12,
      "id": "5e1434bb",
      "metadata": {
        "id": "5e1434bb"
      },
      "outputs": [],
      "source": [
        "def deserialize(schema, raw_bytes):\n",
        "    bytes_reader = io.BytesIO(raw_bytes)\n",
        "    decoder = avro.io.BinaryDecoder(bytes_reader)\n",
        "    reader = avro.io.DatumReader(schema)\n",
        "    return reader.read(decoder)"
      ]
    },
    {
      "cell_type": "code",
      "execution_count": 13,
      "id": "0e92e3e9",
      "metadata": {
        "id": "0e92e3e9"
      },
      "outputs": [],
      "source": [
        "schema_file = 'transaction.avsc'\n",
        "txschema = avro.schema.parse(open(schema_file).read())\n",
        "schema_file = 'submit.avsc'\n",
        "submitschema = avro.schema.parse(open(schema_file).read())\n",
        "schema_file = 'result.avsc'\n",
        "resultschema = avro.schema.parse(open(schema_file).read())"
      ]
    },
    {
      "cell_type": "code",
      "execution_count": 14,
      "id": "bcb5dc21",
      "metadata": {
        "id": "bcb5dc21"
      },
      "outputs": [],
      "source": [
        "# Connect to kafka broker running in your local host (docker). Change this to your kafka broker if needed\n",
        "kafka_broker = '35.240.149.229:9092'"
      ]
    },
    {
      "cell_type": "code",
      "execution_count": 15,
      "id": "0e05b4b0",
      "metadata": {
        "colab": {
          "base_uri": "https://localhost:8080/",
          "height": 480
        },
        "id": "0e05b4b0",
        "outputId": "6f0489e3-628c-4e54-c93c-30eae3c2d57e"
      },
      "outputs": [],
      "source": [
        "producer = KafkaProducer(bootstrap_servers=[kafka_broker])"
      ]
    },
    {
      "cell_type": "code",
      "execution_count": 16,
      "id": "4a2555a3",
      "metadata": {
        "id": "4a2555a3"
      },
      "outputs": [],
      "source": [
        "txconsumer = KafkaConsumer(\n",
        "    'transaction',\n",
        "     bootstrap_servers=[kafka_broker],\n",
        "     enable_auto_commit=True,\n",
        "     value_deserializer=lambda x: deserialize(txschema, x))\n",
        "resultconsumer = KafkaConsumer(\n",
        "    'result',\n",
        "     bootstrap_servers=[kafka_broker],\n",
        "     enable_auto_commit=True,\n",
        "     value_deserializer=lambda x: deserialize(resultschema, x))"
      ]
    },
    {
      "cell_type": "code",
      "execution_count": 17,
      "id": "fe697a88",
      "metadata": {
        "id": "fe697a88"
      },
      "outputs": [],
      "source": [
        "def gen_signature(txid, payer, payee, amount, token):\n",
        "    o = {'txid': txid, 'payer': payer, 'payee': payee, 'amount': amount, 'token': token}\n",
        "    return hashlib.md5(json.dumps(o, sort_keys=True).encode('utf-8')).hexdigest()"
      ]
    },
    {
      "cell_type": "code",
      "execution_count": 18,
      "id": "b9915bcc",
      "metadata": {
        "id": "b9915bcc"
      },
      "outputs": [
        {
          "name": "stdout",
          "output_type": "stream",
          "text": [
            "{'timestamp': 1679730815, 'vid': 'V726138', 'txid': 'TX09564', 'checksum': '244a0a621611b6d06bdacd6f3d7ab7b6', 'code': 200, 'message': 'Confirm'}\n",
            "{'timestamp': 1679730823, 'vid': 'V726138', 'txid': 'TX04858', 'checksum': '86754f565a70baa27eaf9b1fdbaecc91', 'code': 200, 'message': 'Confirm'}\n",
            "{'timestamp': 1679730829, 'vid': 'V726138', 'txid': 'TX01977', 'checksum': '84d17e43827abb6b0ca409d894ee7bc3', 'code': 200, 'message': 'Confirm'}\n",
            "{'timestamp': 1679730834, 'vid': 'V726138', 'txid': 'TX02773', 'checksum': 'fa63c465e4e5bc6da4698a2016d6a40c', 'code': 200, 'message': 'Confirm'}\n",
            "{'timestamp': 1679730843, 'vid': 'V726138', 'txid': 'TX02824', 'checksum': '9ba03a907cd34dd59d684122dfe6377a', 'code': 200, 'message': 'Confirm'}\n",
            "{'timestamp': 1679730853, 'vid': 'V726138', 'txid': 'TX09038', 'checksum': 'e9fbc72520233d99f205473053c3f71f', 'code': 200, 'message': 'Confirm'}\n",
            "{'timestamp': 1679730863, 'vid': 'V726138', 'txid': 'TX06175', 'checksum': '47262cfc19b0815653e5c6f115802edc', 'code': 200, 'message': 'Confirm'}\n",
            "{'timestamp': 1679730871, 'vid': 'V726138', 'txid': 'TX03441', 'checksum': '899db87c206c798723bb5be35c30c2a5', 'code': 200, 'message': 'Confirm'}\n",
            "{'timestamp': 1679730881, 'vid': 'V726138', 'txid': 'TX06403', 'checksum': '3b948c4f6011d8403b660f4cfd6950bd', 'code': 200, 'message': 'Confirm'}\n",
            "{'timestamp': 1679730886, 'vid': 'V726138', 'txid': 'TX04865', 'checksum': '8e111d54b0f894f52fedb9d2c5febfd9', 'code': 200, 'message': 'Confirm'}\n",
            "{'timestamp': 1679730896, 'vid': 'V726138', 'txid': 'TX04794', 'checksum': '0b2d0ab7378cdf5946a4f92ec932a037', 'code': 200, 'message': 'Confirm'}\n",
            "{'timestamp': 1679730901, 'vid': 'V726138', 'txid': 'TX09334', 'checksum': '0eba7b5c081c12e948cd80506bc4d2f5', 'code': 200, 'message': 'Confirm'}\n",
            "{'timestamp': 1679730911, 'vid': 'V726138', 'txid': 'TX00680', 'checksum': '914c7096e3215c7e4ee64509aa5b1dcf', 'code': 200, 'message': 'Confirm'}\n"
          ]
        },
        {
          "ename": "KeyboardInterrupt",
          "evalue": "",
          "output_type": "error",
          "traceback": [
            "\u001b[0;31m---------------------------------------------------------------------------\u001b[0m",
            "\u001b[0;31mKeyboardInterrupt\u001b[0m                         Traceback (most recent call last)",
            "Cell \u001b[0;32mIn[18], line 4\u001b[0m\n\u001b[1;32m      2\u001b[0m vid \u001b[39m=\u001b[39m \u001b[39m'\u001b[39m\u001b[39mV726138\u001b[39m\u001b[39m'\u001b[39m\n\u001b[1;32m      3\u001b[0m \u001b[39mwhile\u001b[39;00m \u001b[39mTrue\u001b[39;00m:\n\u001b[0;32m----> 4\u001b[0m     txconsumerRecord \u001b[39m=\u001b[39m txconsumer\u001b[39m.\u001b[39;49mpoll(timeout_ms\u001b[39m=\u001b[39;49m\u001b[39m1000\u001b[39;49m)\n\u001b[1;32m      5\u001b[0m     \u001b[39mif\u001b[39;00m \u001b[39mlen\u001b[39m(txconsumerRecord)\u001b[39m!=\u001b[39m\u001b[39m0\u001b[39m:\n\u001b[1;32m      6\u001b[0m         \u001b[39mfor\u001b[39;00m tp,txmessage \u001b[39min\u001b[39;00m txconsumerRecord\u001b[39m.\u001b[39mitems():\n",
            "File \u001b[0;32m/Library/Frameworks/Python.framework/Versions/3.11/lib/python3.11/site-packages/kafka/consumer/group.py:655\u001b[0m, in \u001b[0;36mKafkaConsumer.poll\u001b[0;34m(self, timeout_ms, max_records, update_offsets)\u001b[0m\n\u001b[1;32m    653\u001b[0m remaining \u001b[39m=\u001b[39m timeout_ms\n\u001b[1;32m    654\u001b[0m \u001b[39mwhile\u001b[39;00m \u001b[39mTrue\u001b[39;00m:\n\u001b[0;32m--> 655\u001b[0m     records \u001b[39m=\u001b[39m \u001b[39mself\u001b[39;49m\u001b[39m.\u001b[39;49m_poll_once(remaining, max_records, update_offsets\u001b[39m=\u001b[39;49mupdate_offsets)\n\u001b[1;32m    656\u001b[0m     \u001b[39mif\u001b[39;00m records:\n\u001b[1;32m    657\u001b[0m         \u001b[39mreturn\u001b[39;00m records\n",
            "File \u001b[0;32m/Library/Frameworks/Python.framework/Versions/3.11/lib/python3.11/site-packages/kafka/consumer/group.py:702\u001b[0m, in \u001b[0;36mKafkaConsumer._poll_once\u001b[0;34m(self, timeout_ms, max_records, update_offsets)\u001b[0m\n\u001b[1;32m    699\u001b[0m     \u001b[39mself\u001b[39m\u001b[39m.\u001b[39m_client\u001b[39m.\u001b[39mpoll(timeout_ms\u001b[39m=\u001b[39m\u001b[39m0\u001b[39m)\n\u001b[1;32m    701\u001b[0m timeout_ms \u001b[39m=\u001b[39m \u001b[39mmin\u001b[39m(timeout_ms, \u001b[39mself\u001b[39m\u001b[39m.\u001b[39m_coordinator\u001b[39m.\u001b[39mtime_to_next_poll() \u001b[39m*\u001b[39m \u001b[39m1000\u001b[39m)\n\u001b[0;32m--> 702\u001b[0m \u001b[39mself\u001b[39;49m\u001b[39m.\u001b[39;49m_client\u001b[39m.\u001b[39;49mpoll(timeout_ms\u001b[39m=\u001b[39;49mtimeout_ms)\n\u001b[1;32m    703\u001b[0m \u001b[39m# after the long poll, we should check whether the group needs to rebalance\u001b[39;00m\n\u001b[1;32m    704\u001b[0m \u001b[39m# prior to returning data so that the group can stabilize faster\u001b[39;00m\n\u001b[1;32m    705\u001b[0m \u001b[39mif\u001b[39;00m \u001b[39mself\u001b[39m\u001b[39m.\u001b[39m_coordinator\u001b[39m.\u001b[39mneed_rejoin():\n",
            "File \u001b[0;32m/Library/Frameworks/Python.framework/Versions/3.11/lib/python3.11/site-packages/kafka/client_async.py:602\u001b[0m, in \u001b[0;36mKafkaClient.poll\u001b[0;34m(self, timeout_ms, future)\u001b[0m\n\u001b[1;32m    599\u001b[0m             timeout \u001b[39m=\u001b[39m \u001b[39mmin\u001b[39m(timeout, \u001b[39mself\u001b[39m\u001b[39m.\u001b[39mconfig[\u001b[39m'\u001b[39m\u001b[39mretry_backoff_ms\u001b[39m\u001b[39m'\u001b[39m])\n\u001b[1;32m    600\u001b[0m         timeout \u001b[39m=\u001b[39m \u001b[39mmax\u001b[39m(\u001b[39m0\u001b[39m, timeout)  \u001b[39m# avoid negative timeouts\u001b[39;00m\n\u001b[0;32m--> 602\u001b[0m     \u001b[39mself\u001b[39;49m\u001b[39m.\u001b[39;49m_poll(timeout \u001b[39m/\u001b[39;49m \u001b[39m1000\u001b[39;49m)\n\u001b[1;32m    604\u001b[0m \u001b[39m# called without the lock to avoid deadlock potential\u001b[39;00m\n\u001b[1;32m    605\u001b[0m \u001b[39m# if handlers need to acquire locks\u001b[39;00m\n\u001b[1;32m    606\u001b[0m responses\u001b[39m.\u001b[39mextend(\u001b[39mself\u001b[39m\u001b[39m.\u001b[39m_fire_pending_completed_requests())\n",
            "File \u001b[0;32m/Library/Frameworks/Python.framework/Versions/3.11/lib/python3.11/site-packages/kafka/client_async.py:634\u001b[0m, in \u001b[0;36mKafkaClient._poll\u001b[0;34m(self, timeout)\u001b[0m\n\u001b[1;32m    631\u001b[0m \u001b[39mself\u001b[39m\u001b[39m.\u001b[39m_register_send_sockets()\n\u001b[1;32m    633\u001b[0m start_select \u001b[39m=\u001b[39m time\u001b[39m.\u001b[39mtime()\n\u001b[0;32m--> 634\u001b[0m ready \u001b[39m=\u001b[39m \u001b[39mself\u001b[39;49m\u001b[39m.\u001b[39;49m_selector\u001b[39m.\u001b[39;49mselect(timeout)\n\u001b[1;32m    635\u001b[0m end_select \u001b[39m=\u001b[39m time\u001b[39m.\u001b[39mtime()\n\u001b[1;32m    636\u001b[0m \u001b[39mif\u001b[39;00m \u001b[39mself\u001b[39m\u001b[39m.\u001b[39m_sensors:\n",
            "File \u001b[0;32m/Library/Frameworks/Python.framework/Versions/3.11/lib/python3.11/selectors.py:561\u001b[0m, in \u001b[0;36mKqueueSelector.select\u001b[0;34m(self, timeout)\u001b[0m\n\u001b[1;32m    559\u001b[0m ready \u001b[39m=\u001b[39m []\n\u001b[1;32m    560\u001b[0m \u001b[39mtry\u001b[39;00m:\n\u001b[0;32m--> 561\u001b[0m     kev_list \u001b[39m=\u001b[39m \u001b[39mself\u001b[39m\u001b[39m.\u001b[39m_selector\u001b[39m.\u001b[39mcontrol(\u001b[39mNone\u001b[39;00m, max_ev, timeout)\n\u001b[1;32m    562\u001b[0m \u001b[39mexcept\u001b[39;00m \u001b[39mInterruptedError\u001b[39;00m:\n\u001b[1;32m    563\u001b[0m     \u001b[39mreturn\u001b[39;00m ready\n",
            "\u001b[0;31mKeyboardInterrupt\u001b[0m: "
          ]
        }
      ],
      "source": [
        "token = 'eb77f662d8fd62081dcfc724930c9ce4'\n",
        "vid = 'V726138'\n",
        "while True:\n",
        "    txconsumerRecord = txconsumer.poll(timeout_ms=1000)\n",
        "    if len(txconsumerRecord)!=0:\n",
        "        for tp,txmessage in txconsumerRecord.items():\n",
        "            for message in txmessage: \n",
        "                val=message.value #step1\n",
        "                signature=gen_signature(val['txid'],val['payer'],val['payee'],val['amount'],token) #step2\n",
        "                submit={'vid':vid,'signature':signature,'txid':val['txid']}\n",
        "                producer.send('submit',value=serialize(submitschema,submit))#endstep2\n",
        "    resultconsumerRecord =resultconsumer.poll(timeout_ms=1000)\n",
        "    if len(resultconsumerRecord)!=0:\n",
        "        for tp,rsmessage in resultconsumerRecord.items():\n",
        "            for message in rsmessage:\n",
        "                val=message.value\n",
        "                print(val)        "
      ]
    }
  ],
  "metadata": {
    "colab": {
      "provenance": []
    },
    "kernelspec": {
      "display_name": "Python 3 (ipykernel)",
      "language": "python",
      "name": "python3"
    },
    "language_info": {
      "codemirror_mode": {
        "name": "ipython",
        "version": 3
      },
      "file_extension": ".py",
      "mimetype": "text/x-python",
      "name": "python",
      "nbconvert_exporter": "python",
      "pygments_lexer": "ipython3",
      "version": "3.11.2"
    }
  },
  "nbformat": 4,
  "nbformat_minor": 5
}
